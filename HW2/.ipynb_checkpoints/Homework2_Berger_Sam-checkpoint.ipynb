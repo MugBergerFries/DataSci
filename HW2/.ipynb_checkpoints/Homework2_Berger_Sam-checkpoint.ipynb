{
 "cells": [
  {
   "cell_type": "markdown",
   "metadata": {},
   "source": [
    "<a id='top'></a>\n",
    "\n",
    "# Homework 2: Introduction to Probability and Simulation\n",
    "***\n",
    "\n",
    "**Name**: \n",
    "\n",
    "***\n",
    "\n",
    "This assignment is due on Canvas by **MIDNIGHT on Friday September 27**. Your solutions to theoretical questions should be done in Markdown directly below the associated question.  Your solutions to computational questions should include any specified Python code and results as well as written commentary on your conclusions.  Remember that you are encouraged to discuss the problems with your classmates, but **you must write all code and solutions on your own**.\n",
    "\n",
    "**NOTES**: \n",
    "\n",
    "- Any relevant data sets should be available under the **Data** module on Canvas. To make life easier on the graders if they need to run your code, do not change the relative path names here. Instead, move the files around on your computer.\n",
    "- If you're not familiar with typesetting math directly into Markdown then by all means, do your work on paper first and then typeset it later.  Remember that there is a [reference guide](https://math.meta.stackexchange.com/questions/5020/mathjax-basic-tutorial-and-quick-reference) linked on Canvas on writing math in Markdown. **All** of your written commentary, justifications and mathematical work should be in Markdown.\n",
    "- Because you can technically evaluate notebook cells is a non-linear order, it's a good idea to do Kernel $\\rightarrow$ Restart & Run All as a check before submitting your solutions.  That way if we need to run your code you will know that it will work as expected. \n",
    "- It is **bad form** to make your reader interpret numerical output from your code.  If a question asks you to compute some value from the data you should show your code output **AND** write a summary of the results in Markdown directly below your code. \n",
    "- This probably goes without saying, but... For any question that asks you to calculate something, you **must show all work and justify your answers to receive credit**. Sparse or nonexistent work will receive sparse or nonexistent credit. \n",
    "\n",
    "---\n",
    "**Shortcuts:**  [Problem 1](#p1) | [Problem 2](#p2) | [Problem 3](#p3) | [Problem 4](#p4) | [Problem 5](#p5) \n",
    "\n",
    "---"
   ]
  },
  {
   "cell_type": "code",
   "execution_count": 13,
   "metadata": {},
   "outputs": [],
   "source": [
    "import pandas as pd\n",
    "import numpy as np\n",
    "import matplotlib.pylab as plt\n",
    "import random\n",
    "%matplotlib inline"
   ]
  },
  {
   "cell_type": "markdown",
   "metadata": {},
   "source": [
    "***\n",
    "<a/ id='p1'></a>\n",
    "[Back to top](#top)\n",
    "\n",
    "### [20 points] Problem 1\n",
    "\n",
    "To play a game, you have a bag containing 30 fair six-sided dice, with faces `{1,2,3,4,5,6}`.  <img style=\"float: right; width: 200px; padding: 3mm;\" src=\"https://images-na.ssl-images-amazon.com/images/I/619NZnvxJaL._SX425_.jpg\" alt=\"Drawing\"/>\n",
    "This bag also contains 17 fair eight-sided dice (faces `{1,2,3,4,5,6,7,8}`) and 3 fair twenty-sided dice (faces `{1,2,3,4,...,19,20}`).  Call these 3 classes of die \"Six\", \"Eight\" and \"Twenty\" (or S, E, and T, for short). In order to be sure that you are not distinguishing dice by their feel, you are required to wear crab claw gloves. After donning your gloves, you grab one die at random from the bag. \n",
    "\n",
    "Work the following problems by hand (or claw) unless otherwise stated (but don't be afraid to simulate to check your result!). "
   ]
  },
  {
   "cell_type": "markdown",
   "metadata": {},
   "source": [
    "**Part A**: You roll your die one time.  What is the probability of the event $R_7$, that you roll a 7?  Include at least 4 decimal places in your answer."
   ]
  },
  {
   "cell_type": "markdown",
   "metadata": {},
   "source": [
    "0.0429"
   ]
  },
  {
   "cell_type": "markdown",
   "metadata": {},
   "source": [
    "**Part B**: Suppose you roll a 7.  What is the probability that the die you chose from the bag is an Eight-sided die? "
   ]
  },
  {
   "cell_type": "markdown",
   "metadata": {},
   "source": [
    "0.9913"
   ]
  },
  {
   "cell_type": "markdown",
   "metadata": {},
   "source": [
    "**Part C:**  Are the events $R_7$ and $E$ independent?  Justify your answer **using math**."
   ]
  },
  {
   "cell_type": "markdown",
   "metadata": {},
   "source": [
    "P(E|R7) = 0.9913\n",
    "P(E) = .34\n",
    "0.9913 != .34\n",
    "The events are dependant"
   ]
  },
  {
   "cell_type": "markdown",
   "metadata": {},
   "source": [
    "**Part D:**  Suppose you roll your die $n$ times and record each outcome.  Obviously, if you roll 7 or 8 you know you did *not* pick a Six-sided die, and if you roll a 9 or higher, you must have picked a Twenty-sided die.\n",
    "\n",
    "But, if you roll $n$ times in a row and get only 1, 2, 3, 4, 5, or 6 you would have a stronger belief that you in fact grabbed one of the Six-sided dice.  Let $L_n$ be the event that you roll $n$ rolls of 1, 2, 3, 4, 5, or 6 in a row.  For example, one outcome in $L_3$ is the sequence 2, 3, 1.\n",
    "\n",
    "Given that you roll a single value of 1, 2, 3, 4, 5, or 6, what is the probability that you have grabbed a Six-sided die?  That is, calculate **by hand** $P(S \\mid L_1)$."
   ]
  },
  {
   "cell_type": "markdown",
   "metadata": {},
   "source": [
    "P(S|L1) = (P(L1|S)P(S))/(P(L1|S)P(S) + P(L1|E)P(E) + P(L1|T)P(T))\n",
    "0.6/0.873‬\n",
    "0.6873"
   ]
  },
  {
   "cell_type": "markdown",
   "metadata": {},
   "source": [
    "**Part E**:  \n",
    "\n",
    "First, work out **by hand** a formula for the probability in general that you are rolling a Six-sided die, given that you have rolled $n$ values in a row that are 1, 2, 3, 4, 5 or 6 (that is, $L_n$).  So you want a formula for $P(S \\mid L_n)$ in terms of $n$.\n",
    "\n",
    "Then, define a function `prob_six` to calculate $P(S \\mid L_n)$.  This function should only take one positive integer argument, $n$.\n",
    "\n",
    "Verify that your function is performing as expected by checking your answer to **Part D**."
   ]
  },
  {
   "cell_type": "markdown",
   "metadata": {},
   "source": [
    "P(S|Ln) = (P(Ln|S)P(S))/(P(Ln|S)P(S) + P(Ln|E)P(E) + P(Ln|T)P(T))\n",
    "= 0.6/(0.6 + 0.75<sup>n</sup> x 0.34 + 0.3<sup>n</sup> x 0.06)"
   ]
  },
  {
   "cell_type": "code",
   "execution_count": 4,
   "metadata": {},
   "outputs": [],
   "source": [
    "def prob_six(n): #Your code goes here.\n",
    "    return 0.6/(0.6 + ((0.75 ** n) * 0.34) + ((0.3 ** n) * 0.06))"
   ]
  },
  {
   "cell_type": "markdown",
   "metadata": {},
   "source": [
    "**Part F:**  What is the smallest value of $n$ successive rolls of 1, 2, 3, 4, 5 or 6 that would make you believe that there's a better-than-95% chance that the die you grabbed is Six-sided?  Plugging larger and larger values for $n$ into your `prob_six` function is a very reasonable way to check this."
   ]
  },
  {
   "cell_type": "code",
   "execution_count": 10,
   "metadata": {},
   "outputs": [
    {
     "name": "stdout",
     "output_type": "stream",
     "text": [
      "0.6872852233676976\n",
      "0.7531538316701186\n",
      "0.8053069729517521\n",
      "0.8473808781090273\n",
      "0.8812780492557869\n",
      "0.9083251148952147\n",
      "0.929659421687253\n",
      "0.9463090613586363\n",
      "0.9591866491403235\n"
     ]
    }
   ],
   "source": [
    "#Code to determine smallest value of n\n",
    "print(prob_six(1))\n",
    "print(prob_six(2))\n",
    "print(prob_six(3))\n",
    "print(prob_six(4))\n",
    "print(prob_six(5))\n",
    "print(prob_six(6))\n",
    "print(prob_six(7))\n",
    "print(prob_six(8))\n",
    "print(prob_six(9))"
   ]
  },
  {
   "cell_type": "markdown",
   "metadata": {},
   "source": [
    "8 dice"
   ]
  },
  {
   "cell_type": "markdown",
   "metadata": {},
   "source": [
    "***\n",
    "<a id='p2'></a>\n",
    "[Back to top](#top)\n",
    "\n",
    "\n",
    "### [20 points] Problem 2\n",
    "\n",
    "Oscar and Stella are two octopuses who are very excited to have both secured professorships in the Computer Science department at CU. They work hard, but they also like to blow off a little steam after work. When they leave work from the CU Engineering Center ($E~$), they each head for one of five other locations: the Gym to get strong ($G~$), the Library to get learned ($L~$), the Boulder Reservoir to have a nice swim ($R$), the Hill to have a sandwich ($H~$), or to Brewing Market to have a nice Coffee ($C~$).  \n",
    "\n",
    "Here are some rules governing their movements throughout the fair city of Boulder:\n",
    "* When Oscar and/or Stella is leaving one location, they randomly select one of the available adjacent locations, with equal probability.\n",
    "* This includes back-tracking. Eg. Stella could go from the Engineering Center to the Library, then directly back to the Engineering Center. \n",
    "* Assume that all moves require the same amount of time.\n",
    "* They are also not allowed to stay put; they always must move to some *other* adjacent location.\n",
    "* Oscar and Stella, being the think-for-yourselfers that they are, also act **independently** of one another. That is, the probability that Oscar goes from one place to another is independent of the probability of Stella's movements.\n",
    "\n",
    "<img src=\"http://www.cs.colorado.edu/~tonyewong/home/resources/chris_and_dan_statespace.png\" style=\"width: 300px;\"/>"
   ]
  },
  {
   "cell_type": "markdown",
   "metadata": {},
   "source": [
    "**Part A**: Oscar is exhausted from a long day of researching whether [P=NP](https://en.wikipedia.org/wiki/P_versus_NP_problem) so, naturally, he wants to go to the brewing market to grab a coffee. That being said, Osacar has made a break through in his research and wants to follow up on it at the library, but he needs to run some errands too. Assume Oscar can do his errands at any location on the map. \n",
    "\n",
    "Compute by hand the probability that Oscar goes to the Brewing Market ($C$) in his first stop, makes a second stop at any location, then goes to the Library ($L$) third. "
   ]
  },
  {
   "cell_type": "markdown",
   "metadata": {},
   "source": [
    "P(E->C) = 0.25  \n",
    "P(C->!L) = P(C->H) + P(C->E)  \n",
    "P(C->H) = 0.3333  \n",
    "P(C->E) = 0.3333  \n",
    "P(H->L) = 0.3333  \n",
    "P(E->L) = 0.25  \n",
    "P(E->C->!L->L) = P(E->C)((P(C->H)P(H->L)) + (P(C->E)P(E->L)))  \n",
    "P(E->C->!L->L) = 0.25((0.3333 x 0.3333) + (0.3333 x 0.25))  \n",
    "P(E->C->!L->L) = 0.25 x ((0.1111) + (0.0833))  \n",
    "P(E->C->!L->L) = 0.25 x (0.1944)  \n",
    "P(E->C->!L->L) = 0.0486"
   ]
  },
  {
   "cell_type": "markdown",
   "metadata": {},
   "source": [
    "**Part B**: Stella is a competitive body-building octopus professor. This is quite the feat given her lack of bones!  Compute (by hand) the probability that Stella ends up at the Gym _either_ as her first _or_ second location visited after leaving the Engineering Center ($E$). (Again, assume that Stella wanders the streets of Boulder randomly using the same rules described above.)"
   ]
  },
  {
   "cell_type": "markdown",
   "metadata": {},
   "source": [
    "P(E->G) = 0.25  \n",
    "P(E->L->G) = P(E->L)P(L->G) = 0.25 x 0.25 = 0.0625\n",
    "P(E->R->G) = P(E->R)P(R->G) = 0.25 x 0.5 = 0.125\n",
    "Ans = 0.25 + 0.0625 + 0.125 = 0.4375‬"
   ]
  },
  {
   "cell_type": "markdown",
   "metadata": {},
   "source": [
    "**Part C**: Suppose that Stella works late at the Engineering Center, while Oscar goes to the Gym.  Later, they both leave and wander around, randomly and independently of one another, as described above.\n",
    "1. What is the probability that they run into each other in the same location on the first location visited?  \n",
    "2. Given their two initial locations, what is the probability that they meet at the Hill after 2 moves?"
   ]
  },
  {
   "cell_type": "markdown",
   "metadata": {},
   "source": [
    "1:  \n",
    "    P(G->L)P(E->L) or P(G->R)P(E->R)  \n",
    "    P(G->L)P(E->L) = 0.25 x 0.25 = 0.0625  \n",
    "    P(G->R)P(E->R) = 0.25 x 0.25 = 0.0625  \n",
    "    P(G->L)P(E->L) or P(G->R)P(E->R) = 0.0625 + 0.0625 = 0.125  \n",
    "\n",
    "2:  \n",
    "    P(G->L->H) = 0.25 x 0.25 = 0.0625  \n",
    "    P(E->C->H) = 0.25 x 0.3333 = 0.0833  \n",
    "    P(E->L->H) = 0.25 x 0.25 = 0.0625  \n",
    "    P(E->G->H) = 0.25 x 0.25 = 0.0625  \n",
    "    P(G->L->H) and (P(E->C->H) or P(E->L->H) or P(E->G->H))  \n",
    "    0.0625 x (0.0833 + 0.0625 + 0.0625) = 0.013"
   ]
  },
  {
   "cell_type": "markdown",
   "metadata": {},
   "source": [
    "**Part D**: Write a simulation to confirm that your by-hand calculations in **Part A**, **Part B**, and **Part C** are correct. Make sure you run your simulations for enough trials that your estimates are reasonably close to your analytic results. In addition to showing your code, you should explain in Markdown (not just in code comments) what your code is doing and why it is a reasonable approximation of the probabilities in **Part A**, **Part B**, and **Part C**.  "
   ]
  },
  {
   "cell_type": "code",
   "execution_count": 21,
   "metadata": {},
   "outputs": [
    {
     "name": "stdout",
     "output_type": "stream",
     "text": [
      "0.0487344\n"
     ]
    }
   ],
   "source": [
    "graph = {\n",
    "    \"e\" : [\"c\", \"l\", \"g\", \"r\"],\n",
    "    \"r\" : [\"g\", \"e\"],\n",
    "    \"c\" : [\"e\", \"l\", \"h\"],\n",
    "    \"l\" : [\"e\", \"c\", \"h\", \"g\"],\n",
    "    \"g\" : [\"e\", \"l\", \"h\", \"r\"],\n",
    "    \"h\" : [\"c\", \"l\", \"g\"],\n",
    "}\n",
    "truecount = 0\n",
    "falsecount = 0\n",
    "for i in range(5000000):\n",
    "    if (random.choice(graph[\"e\"]) == \"c\"):\n",
    "        nxt = random.choice(graph[\"c\"])\n",
    "        if (nxt != \"l\"):\n",
    "            if (random.choice(graph[nxt]) == \"l\"):\n",
    "                truecount += 1\n",
    "            else:\n",
    "                falsecount += 1\n",
    "        else:\n",
    "            falsecount += 1\n",
    "    else:\n",
    "        falsecount += 1\n",
    "print(truecount/(truecount+falsecount))"
   ]
  },
  {
   "cell_type": "markdown",
   "metadata": {},
   "source": [
    "This code creates a dict called graph which represents locations as keys and paths to other locations as lists. For A, I have truecount increment only if the first move is to c, the second move is to either e or h (not l, in other words), and the third move from wherever the last move is to l. This is the exact circumstance asked for in A. The calculated number accurately reflects the expected result. "
   ]
  },
  {
   "cell_type": "code",
   "execution_count": 23,
   "metadata": {},
   "outputs": [
    {
     "name": "stdout",
     "output_type": "stream",
     "text": [
      "0.4373868\n"
     ]
    }
   ],
   "source": [
    "truecount = 0\n",
    "falsecount = 0\n",
    "for i in range(5000000):\n",
    "    move1 = random.choice(graph[\"e\"])\n",
    "    move2 = random.choice(graph[move1])\n",
    "    if (move1 == \"g\" or move2 == \"g\"):\n",
    "        truecount += 1\n",
    "    else:\n",
    "        falsecount += 1\n",
    "print(truecount/(truecount+falsecount))"
   ]
  },
  {
   "cell_type": "markdown",
   "metadata": {},
   "source": [
    "This code uses the graph to simulate the first two moves and checks if either of them are the gym. If so, truecount is incremented. If not, falsecount is incremented. The calculated number accurately reflects the expected result. "
   ]
  },
  {
   "cell_type": "code",
   "execution_count": 28,
   "metadata": {},
   "outputs": [
    {
     "name": "stdout",
     "output_type": "stream",
     "text": [
      "0.1249056\n",
      "0.0130562\n"
     ]
    }
   ],
   "source": [
    "pt1truecount = 0\n",
    "pt1falsecount = 0\n",
    "pt2truecount = 0\n",
    "pt2falsecount = 0\n",
    "for i in range(5000000):\n",
    "    oscarmove1 = random.choice(graph[\"g\"])\n",
    "    stellamove1 = random.choice(graph[\"e\"])\n",
    "    oscarmove2 = random.choice(graph[oscarmove1])\n",
    "    stellamove2 = random.choice(graph[stellamove1])\n",
    "    if (oscarmove1 == stellamove1):\n",
    "        pt1truecount += 1\n",
    "    else:\n",
    "        pt1falsecount += 1\n",
    "    if (oscarmove2 == stellamove2 and oscarmove2 == \"h\"):\n",
    "        pt2truecount += 1\n",
    "    else:\n",
    "        pt2falsecount += 1\n",
    "print(pt1truecount/(pt1truecount+pt1falsecount))\n",
    "print(pt2truecount/(pt2truecount+pt2falsecount))"
   ]
  },
  {
   "cell_type": "markdown",
   "metadata": {},
   "source": [
    "This code uses the graph to randomly choose both of their first moves based on their starting location and their second moves based on their first moves. It has a true and false count for each part of the question. If their first move is to the same place, the pt1 count is incremented. If their second move is to the same place and is to the hill, the pt2 counter is incremented"
   ]
  },
  {
   "cell_type": "markdown",
   "metadata": {},
   "source": [
    "***\n",
    "<a/ id='p3'></a>\n",
    "[Back to top](#top)\n",
    "\n",
    "### [20 points] Problem 3  \n",
    "\n",
    "As part of their Computer Science Jedi training, Zach and Rachel are having a lightsaber duel. The rules of the lightsaber duel are as follows:\n",
    "* The duel is composed of a number of rounds.\n",
    "* Each round consists of Zach practicing his sweetest Jedi moves and trying to strike Rachel, then Rachel practicing *her* best moves and trying to strike Zach.\n",
    "* If Zach manages to strike Rachel, then Zach is awarded a point, and similarly if Rachel manages to strike Zach, then Rachel is awarded a point.\n",
    "* If a round ends in a tie, then Zach and Rachel proceed to another round. If a round ends with one Jedi scoring a point but the other one does not, then the Jedi who scored a point wins the duel.\n",
    "\n",
    "Let $Z$ be the event that \"Zach wins the duel\", $E$ be the event that \"the duel ends after the first round of lightsaber strikes\", and $C$ be the event that \"the duel continues after the first round of lightsaber strikes\".  Suppose that the result of one lightsaber strike is independent of the other strikes, Zach successfully lands his lightsaber strikes with probability $p$, and Rachel lands her strikes with probability $q$.\n",
    "\n",
    "**Part A**: The duel will continue until Zach or Rachel wins.  What is the sample space $\\Omega$ for this \"experiment\"?  Represent the outcomes of individual lightsaber strikes by $H$ for a hit and $M$ for a miss, and assume that Zach has the first strike in each round. At the very least, your answer should include all of the events in $\\Omega$ that include one or two rounds."
   ]
  },
  {
   "cell_type": "markdown",
   "metadata": {},
   "source": [
    "Ω = {HM, MH, MMHM, MMHH, MMMM, MMMH, HHHM, HHHH, HHMH, HHMM}"
   ]
  },
  {
   "cell_type": "markdown",
   "metadata": {},
   "source": [
    "**Part B**: Determine $P(Z \\mid E)$ in terms of $p$ and $q$."
   ]
  },
  {
   "cell_type": "markdown",
   "metadata": {},
   "source": [
    "P(Z|E) = P(Z and E)/P(E) = p(1-q)/(p(1-q)+q(1-p))"
   ]
  },
  {
   "cell_type": "markdown",
   "metadata": {},
   "source": [
    "**Part C**: Explain why events $C$ and $Z$ are independent. "
   ]
  },
  {
   "cell_type": "markdown",
   "metadata": {},
   "source": [
    "Since two misses or two hits results in essentially a \"rerolling\" of the same duel again, P(Z) = P(Z|C). Said another way, Z is independant of C since prior rounds have no effect on the current round."
   ]
  },
  {
   "cell_type": "markdown",
   "metadata": {},
   "source": [
    "**Part D**: Use the Law of Total Probability to show that $P(Z) = p(1-q) + (2pq - p - q +1) ~P(Z \\mid C)$. "
   ]
  },
  {
   "cell_type": "markdown",
   "metadata": {},
   "source": [
    "P(Z) = P(Z and E) + P(Z and C)  \n",
    "P(Z and C) = P(Z|C)P(C)  \n",
    "= p(1-q) + (pq+(1-p)(1-q))P(Z|C)  \n",
    "= p(1-q) + (2pq - p - q + 1)P(Z|C)"
   ]
  },
  {
   "cell_type": "markdown",
   "metadata": {},
   "source": [
    "**Part E**: Use the fact from **Part B** that $P(Z \\mid C) = P(Z)$ to determine $P(Z)$ in terms of $p$ and $q$."
   ]
  },
  {
   "cell_type": "markdown",
   "metadata": {},
   "source": [
    "Combining Part C with Part D:  \n",
    "P(Z) = p(1-q) + (2pq - p - q + 1)P(Z)  \n",
    "P(Z) - P(Z)(2pq - p - q + 1) = p(1-q)\n",
    "P(Z)(p + q - 2pq) = p(1-q)\n",
    "P(Z) = p(1-q)/(p + q - 2pq) = p(1-q)/(p(1-q) + q(1-p))"
   ]
  },
  {
   "cell_type": "markdown",
   "metadata": {},
   "source": [
    "**Part F**: Explain why the answers to **Part B** and **Part E** are the same. "
   ]
  },
  {
   "cell_type": "markdown",
   "metadata": {},
   "source": [
    "Since Z and C are independant and E = !C, Z and E are also independant. This means P(Z|C) = P(Z|E) = P(Z)"
   ]
  },
  {
   "cell_type": "markdown",
   "metadata": {},
   "source": [
    "**Part G**: Explain the significance of the solution technique for $P(Z)$ outlined in **Part D** and **Part E**.  Why did we go this route instead of computing $P(Z)$ directly?  Can we always use such techniques?  What assumption did we need to make in order to use this solution approach?"
   ]
  },
  {
   "cell_type": "markdown",
   "metadata": {},
   "source": [
    "Using the Law of Total Probability to calculate P(Z) allows us to use the full-information nature of the problem to fill in the blanks. This allows us to quickly determine P(Z). This only works if we have all 'partitions' so to speak (AKA between C and E, all cases are included) and if all partitions are independant of Z. This approach will not work in other cases"
   ]
  },
  {
   "cell_type": "markdown",
   "metadata": {},
   "source": [
    "***\n",
    "<a id='p4'></a>\n",
    "[Back to top](#top)\n",
    "\n",
    "### [25 points] Problem 4\n",
    "\n",
    "In this problem you will write some code to simulate the game of **Miniopoly** (a very rough approximation of [Monopoly](https://en.wikipedia.org/wiki/Monopoly_(game)).  The game consists of a round board with 40 \"squares\" numbered from $0$ to $39$, where squares $0$ and would-be $40$ are [coincident](https://en.wikipedia.org/wiki/Coincident) and called **GO**.  A player starts on **GO** with \\\\$200 in their pocket.  On each turn the player rolls a pair of dice and then moves a number of spaces equal to the sum of the dice.  Landing on different squares have different results: \n",
    "\n",
    "- Squares 3, 7, 15, 22, 33, and 36 cause you to draw a card.  The cards tell you to collect either \\\\$50 or \\\\$250 or pay the bank \\\\$50.  There is always an equal probability associated with each of these possible cards.\n",
    "\n",
    "\n",
    "- Squares 0, 10, and 20 do not trigger any action \n",
    "\n",
    "\n",
    "- Square 30 is **Go To Jail**, which sends the player directly to **Jail** and ends the turn \n",
    "\n",
    "- If a player starts a turn from **Jail** she rolls two dice: \n",
    "\n",
    "    - If the player rolls doubles (i.e. the dice have equal values) the player moves from Square 10 a number of squares equal to the sum of the dice\n",
    "    \n",
    "    - If the player rolls anything other than doubles she pays the bank \\$20 and remains in **Jail** \n",
    "    \n",
    "\n",
    "- If the player passes or lands on **GO** she collects \\$200. \n",
    "\n",
    "- If the player lands on any other square not mentioned above, she pays the bank \\$25. \n",
    "\n",
    "\n",
    "If at any point the player has \\$0 or less they go bankrupt and the game ends.\n",
    "\n",
    "See [here](http://www.cs.colorado.edu/~tonyewong/home/resources/miniopoly_example.png) for an example of the Miniopoly board layout.\n",
    "\n",
    "<br>\n",
    "\n",
    "**Part A**: Complete the function miniopoly_turn below. The function should simulate one turn of Miniopoly.  It should take as arguments the player's current location on the board as well as the player's current cash reserves, and return the player's new location and cash reserves after the turn has completed. Note that if a player goes bankrupt during the game you should return their cash as 0 instead of a negative value.  "
   ]
  },
  {
   "cell_type": "code",
   "execution_count": 30,
   "metadata": {},
   "outputs": [],
   "source": [
    "def miniopoly_turn(state, cash):\n",
    "    cards = {\n",
    "        1: 50,\n",
    "        2: 250,\n",
    "        3: -50,\n",
    "    }\n",
    "    dice1 = random.randint(1,6)\n",
    "    dice2 = random.randint(1,6)\n",
    "    move = dice1 + dice2\n",
    "    if (state == 30):\n",
    "        if (dice1 == dice2):\n",
    "            newstate = 10 + move\n",
    "        else:\n",
    "            return state, max(0, cash - 20)\n",
    "    else:\n",
    "        newstate = (state + move) % 40\n",
    "    if (newstate < state):\n",
    "        cash += 200\n",
    "    if (newstate in [3, 7, 15, 22, 33, 36]):\n",
    "        card = random.randint(1, 3)\n",
    "        cash += cards[card]\n",
    "    elif (newstate in [0, 10, 20]):\n",
    "        return newstate, max(0, cash)\n",
    "    elif (newstate == 30):\n",
    "        return newstate, max(0, cash)\n",
    "    return newstate, max(0, cash - 25)"
   ]
  },
  {
   "cell_type": "markdown",
   "metadata": {},
   "source": [
    "**Part B**: Use your function from **Part A** to Simulate at least 10000 25-turn games of Miniopoly and make a frequency histogram of the player's cash at the end of the game."
   ]
  },
  {
   "cell_type": "code",
   "execution_count": 42,
   "metadata": {},
   "outputs": [],
   "source": [
    "cash_list = []\n",
    "for i in range(30000):\n",
    "    state = 0\n",
    "    cash = 200\n",
    "    for i in range(25):\n",
    "        if (cash != 0):\n",
    "            state, cash = miniopoly_turn(state, cash)\n",
    "    cash_list.append(cash)"
   ]
  },
  {
   "cell_type": "code",
   "execution_count": 43,
   "metadata": {},
   "outputs": [
    {
     "data": {
      "text/plain": [
       "Text(0,0.5,'Frequency')"
      ]
     },
     "execution_count": 43,
     "metadata": {},
     "output_type": "execute_result"
    },
    {
     "data": {
      "image/png": "[encoded data removed]",
      "text/plain": [
       "<Figure size 432x288 with 1 Axes>"
      ]
     },
     "metadata": {},
     "output_type": "display_data"
    }
   ],
   "source": [
    "plt.hist(cash_list)\n",
    "plt.title(\"Cash Histogram\")\n",
    "plt.xlabel(\"Dollars\")\n",
    "plt.ylabel(\"Frequency\")"
   ]
  },
  {
   "cell_type": "markdown",
   "metadata": {},
   "source": [
    "**Part C**: Use your code from **Part A** to estimate the probability that a player goes bankrupt in a game that only lasts 25 turns."
   ]
  },
  {
   "cell_type": "code",
   "execution_count": 68,
   "metadata": {},
   "outputs": [
    {
     "name": "stdout",
     "output_type": "stream",
     "text": [
      "0.106009\n"
     ]
    }
   ],
   "source": [
    "brokecount = 0\n",
    "for i in range(1000000):\n",
    "    state = 0\n",
    "    cash = 200\n",
    "    for i in range(25):\n",
    "        if (cash != 0):\n",
    "            state, cash = miniopoly_turn(state, cash)\n",
    "    if (cash == 0):\n",
    "        brokecount += 1\n",
    "print(brokecount/1000000)"
   ]
  },
  {
   "cell_type": "markdown",
   "metadata": {},
   "source": [
    "**Part D**: Use your code from **Part A** to estimate the probability that a player goes bankrupt in a 25 turn game  _given_ that they went to **Jail** at least twice.  Is a player more or less likely to go bankrupt if they've been to **Jail** twice?  "
   ]
  },
  {
   "cell_type": "code",
   "execution_count": 74,
   "metadata": {},
   "outputs": [
    {
     "name": "stdout",
     "output_type": "stream",
     "text": [
      "0.014198687357865837\n"
     ]
    }
   ],
   "source": [
    "totalcount = 0\n",
    "brokecount = 0\n",
    "for i in range(1000000):\n",
    "    state = 0\n",
    "    cash = 200\n",
    "    jailcount = 0\n",
    "    for i in range(25):\n",
    "        if (cash != 0):\n",
    "            tmp = state\n",
    "            state, cash = miniopoly_turn(state, cash)\n",
    "            if (state == 30 and tmp != state):\n",
    "                jailcount += 1\n",
    "    if (jailcount >= 2):\n",
    "        totalcount += 1\n",
    "        if (cash == 0):\n",
    "            brokecount += 1\n",
    "print(brokecount/totalcount)"
   ]
  },
  {
   "cell_type": "markdown",
   "metadata": {},
   "source": [
    "Over 1 million trials, Part C averaged a 0.1060 probability. Over 1 million trials, Part D averaged a 0.0142 probability. It appears going to jail twice greatly decreases the likeliness of going bankrupt in 25 turns"
   ]
  },
  {
   "cell_type": "markdown",
   "metadata": {},
   "source": [
    "**Part E**: Use your code from **Part A** to estimate the probability (either directly or using Bayes' Rule) that a player has gone to jail at least twice, given that the player went bankrupt in the first 25 turns."
   ]
  },
  {
   "cell_type": "code",
   "execution_count": 75,
   "metadata": {},
   "outputs": [
    {
     "name": "stdout",
     "output_type": "stream",
     "text": [
      "0.012105149387693725\n"
     ]
    }
   ],
   "source": [
    "truecount = 0\n",
    "totalcount = 0\n",
    "for i in range(1000000):\n",
    "    state = 0\n",
    "    cash = 200\n",
    "    jailcount = 0\n",
    "    for i in range(25):\n",
    "        if (cash != 0):\n",
    "            tmp = state\n",
    "            state, cash = miniopoly_turn(state, cash)\n",
    "            if (state == 30 and tmp != state):\n",
    "                jailcount += 1\n",
    "    if (cash == 0):\n",
    "        totalcount += 1\n",
    "        if (jailcount >= 2):\n",
    "            truecount += 1\n",
    "print(truecount/totalcount)"
   ]
  },
  {
   "cell_type": "markdown",
   "metadata": {},
   "source": [
    "Over 1 million trials, Part E averaged a 0.0121 probability"
   ]
  },
  {
   "cell_type": "markdown",
   "metadata": {},
   "source": [
    "***\n",
    "<a id='p5'></a>\n",
    "[Back to top](#top)\n",
    "\n",
    "### [15 points] Problem 5\n",
    "\n",
    "To get published in an academic journal, you have to prove something \"interesting.\"  As a result, most academics begin their research by investigating hypotheses that, all else equal, are unlikely to be true.  Suppose each research project begins with a research *claim* that has a 10% chance of being correct.\n",
    "\n",
    "They then perform a study that satisfies the following two properties:\n",
    "\n",
    "    1) The probability that they correctly *find* an important result given that their *claim* is true is 50%\n",
    "    2) The probability that they incorrectly *find* an important result given that their *claim* is false is 5%\n",
    "\n",
    "If they *find* an important result they are published.  What is the probability that their *claim* was true, given that they were published?"
   ]
  },
  {
   "cell_type": "markdown",
   "metadata": {},
   "source": [
    "In other words, what is the probability that their claim was true given they found a result  \n",
    "P(True|Result) = P(Result|True)P(True)/P(Result) = 0.5 x 0.1 / (0.1 x 0.5 + 0.9 x 0.05) = 0.05 / (0.05 + 0.045) = 0.05 / 0.095 = 0.5263"
   ]
  }
 ],
 "metadata": {
  "kernelspec": {
   "display_name": "Python 3",
   "language": "python",
   "name": "python3"
  },
  "language_info": {
   "codemirror_mode": {
    "name": "ipython",
    "version": 3
   },
   "file_extension": ".py",
   "mimetype": "text/x-python",
   "name": "python",
   "nbconvert_exporter": "python",
   "pygments_lexer": "ipython3",
   "version": "3.6.5"
  }
 },
 "nbformat": 4,
 "nbformat_minor": 2
}
