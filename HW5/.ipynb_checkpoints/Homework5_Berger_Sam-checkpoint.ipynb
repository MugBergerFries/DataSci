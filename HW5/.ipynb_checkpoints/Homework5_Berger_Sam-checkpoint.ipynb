{
 "cells": [
  {
   "cell_type": "markdown",
   "metadata": {},
   "source": [
    "<a id='top'></a>\n",
    "\n",
    "# Homework 5: Bootstrap, Hypothesis Testing and Regression\n",
    "***\n",
    "\n",
    "**Name**: \n",
    "\n",
    "***\n",
    "\n",
    "This assignment is due on Canvas by **11:59 PM on Friday November 22**. Your solutions to theoretical questions should be done in Markdown/MathJax directly below the associated question.  Your solutions to computational questions should include any specified Python code and results as well as written commentary on your conclusions.  Remember that you are encouraged to discuss the problems with your instructors and classmates, but **you must write all code and solutions on your own**. \n",
    "\n",
    "**NOTES**: \n",
    "\n",
    "- Any relevant data sets should be available under the **Data** module on Canvas, as well as in the zipped folder in which you obtained this assignment. \n",
    "- Do **NOT** load or use any Python packages that are not available in Anaconda 3.6. \n",
    "- Because you can technically evaluate notebook cells in a non-linear order, it's a good idea to do Kernel $\\rightarrow$ Restart & Run All as a check before submitting your solutions.  That way if we need to run your code you will know that it will work as expected. \n",
    "- It is **bad form** to make your reader interpret numerical output from your code.  If a question asks you to compute some value from the data you should show your code output **AND** write a summary of the results in Markdown directly below your code. \n",
    "- You **MUST** leave all of your notebook cells **evaluated** so the graders do not need to re-evaluate them. For 100+ students, this extra time adds up, and makes the graders' lives unnecessarily more difficult.\n",
    "- This probably goes without saying, but... For any question that asks you to calculate something, you **must show all work and justify your answers to receive credit**. Sparse or nonexistent work will receive sparse or nonexistent credit. \n",
    "- Submit only this Jupyter notebook to Canvas.  Do not compress it using tar, rar, zip, etc. \n",
    "\n",
    "---\n",
    "**Shortcuts:**  [Problem 1](#p1) | [Problem 2](#p2) | [Problem 3](#p3) | [Problem 4](#p4) \n",
    "\n",
    "---"
   ]
  },
  {
   "cell_type": "code",
   "execution_count": 48,
   "metadata": {
    "scrolled": true
   },
   "outputs": [],
   "source": [
    "import numpy as np\n",
    "import matplotlib.pyplot as plt\n",
    "import pandas as pd\n",
    "import math\n",
    "import statistics\n",
    "from scipy import stats \n",
    "%matplotlib inline"
   ]
  },
  {
   "cell_type": "markdown",
   "metadata": {},
   "source": [
    "---\n",
    "[Back to top](#top)\n",
    "<a id='p1'></a>\n",
    "\n",
    "### [20 points] Problem 1 - Hypothesis Testing: Knowledge Check\n",
    "\n",
    "You are working as a Data Scientist for an internet company. Your co-worker, Bob Dob, is a lovable scamp! Unfortunately, he also makes a lot of mistakes throughout the day as the two of you team up to tackle some inference work regarding your company's customers. In each case, clearly explain why Bob's hypothesis testing setup or conclusion is incorrect."
   ]
  },
  {
   "cell_type": "markdown",
   "metadata": {},
   "source": [
    "**Part A**: Bob has some data on the characteristics of customers that visited the company's website over the previous month.  He wants to perform an analysis on the proportion of last month's website visitors that bought something.  \n",
    "\n",
    "Let $X$ be the random variable describing the number of website visitors who bought something in the previous month, and suppose that the population proportion of visitors who bought something is $p$. Bob is particularly interested to see if the data suggests that more than 15% of website visitors actually buy something.  He decides to perform the test with a null hypothesis of $H_0: \\hat{p} = 0.15$. "
   ]
  },
  {
   "cell_type": "markdown",
   "metadata": {},
   "source": [
    "Phat represents a sample proportion, while we are intending to refer to the true proportion"
   ]
  },
  {
   "cell_type": "markdown",
   "metadata": {},
   "source": [
    "**Part B**: Bob decides instead to do his hypothesis test with a null hypothesis of $H_0: p > 0.15$."
   ]
  },
  {
   "cell_type": "markdown",
   "metadata": {},
   "source": [
    "This null hypothesis is the same as the proposed alternative hypothesis"
   ]
  },
  {
   "cell_type": "markdown",
   "metadata": {},
   "source": [
    "**Part C**: Finally on track with reasonable hypotheses of $H_0: p = 0.15$ and $H_1: p > 0.15$, Bob computes a normalized test-statistic of $z = -1.4$ for the sample proportion and concludes that since $z = -1.4 < 0.05$ there is sufficient statistical evidence at the $\\alpha = 0.05$ (95%) significance level that the proportion of customers who buy something is less than 15%."
   ]
  },
  {
   "cell_type": "markdown",
   "metadata": {},
   "source": [
    "A z-score of -1.4 corresponds to the 8.08th percentile. Since 0.0808>0.05, this number is not significant enough to reject the null hypothesis. Furthermore, z = -1.4 refers to a sample value 1.4 standard deviations LOWER than the mean, not higher"
   ]
  },
  {
   "cell_type": "markdown",
   "metadata": {},
   "source": [
    "**Part D**: Bob is again conducting the hypothesis test of $H_0: p = 0.15$ and $H_1: p > 0.15$. He computes a p-value of $0.03$, and thus concludes that there is only a 3% probability that the null hypothesis is true. "
   ]
  },
  {
   "cell_type": "markdown",
   "metadata": {},
   "source": [
    "A p-value of 0.03 means that if the true proportion is .15, there is a 3% chance of a given sampled proportion being as high or higher than the one used to create this p value"
   ]
  },
  {
   "cell_type": "markdown",
   "metadata": {},
   "source": [
    "---\n",
    "[Back to top](#top)\n",
    "<a id='p3'></a>\n",
    "\n",
    "### [25 points] Problem 2 - Naps vs Coffee for Memory? \n",
    "\n",
    "It is estimated that [about 75% of adults](https://www.ncbi.nlm.nih.gov/pmc/articles/PMC4997286/) in the United States drink coffee. Often, coffee is used to replace the need for sleep. It works alright, or so we think. Let's find out, in this exciting homework problem!\n",
    "\n",
    "[One recent study](https://www.sciencedirect.com/science/article/pii/S1388245703002554) investigated the effects of drinking coffee, taking a nap, and having a [\"coffee-nap\"](https://lifehacker.com/naps-vs-coffee-which-is-better-when-youre-exhausted-1730643671) - the practice of drinking some coffee *and then* having a short nap. The study broke participants up into three groups of 15 participants each, where the groups would have a nap, or have a coffee, or have a coffee-nap, then perform a task where their reaction time was measured. In previous experiments the mean reaction time measurement was found to be normally distributed. The reaction time means (milliseconds, ms) and standard deviations for the three groups of participants are given in the table below.\n",
    "\n",
    "$$\n",
    "\\begin{array}{c|c|c|c}\n",
    "\\textrm{Group} & \\textrm{Sample Size} & \\textrm{Mean} & \\textrm{Standard Deviation} \\\\\n",
    "\\hline \n",
    "\\textrm{Coffee+Nap} & 15 & 451.3 & 31.9 \\\\ \n",
    "\\textrm{Coffee} & 15 & 494.2 & 39.6 \\\\ \n",
    "\\textrm{Nap} & 15 & 492.8 & 45.2 \\\\ \n",
    "\\end{array}\n",
    "$$\n",
    "\n",
    "**Part A**: Compute a 97.5% t-confidence interval for the mean reaction time measurement for participants in each of these three groups. (You should find three separate confidence intervals.) Report the results.\n",
    "\n",
    "1. Can you make any conclusions regarding whether coffee, naps or both (coffee-naps) are better for faster reaction times?\n",
    "2. Why did we use a t-distribution?"
   ]
  },
  {
   "cell_type": "code",
   "execution_count": 49,
   "metadata": {},
   "outputs": [
    {
     "name": "stdout",
     "output_type": "stream",
     "text": [
      "430.6298196583792\n",
      "471.97018034162085\n",
      "468.54046578281555\n",
      "519.8595342171844\n",
      "463.5118447824056\n",
      "522.0881552175944\n"
     ]
    }
   ],
   "source": [
    "t = stats.t.ppf(0.9875, 14)\n",
    "ssize = math.sqrt(15)\n",
    "print(451.3-t*31.9/ssize)\n",
    "print(451.3+t*31.9/ssize)\n",
    "print(494.2-t*39.6/ssize)\n",
    "print(494.2+t*39.6/ssize)\n",
    "print(492.8-t*45.2/ssize)\n",
    "print(492.8+t*45.2/ssize)"
   ]
  },
  {
   "cell_type": "markdown",
   "metadata": {},
   "source": [
    "Since all confidence intervals have overlap with all other confidence intervals, we cannot draw any conclusions that one of these methods is better than others  \n",
    "The t distribution is correct here due to the fact that we do not know the population standard deviation and the sample size for each sample is <30"
   ]
  },
  {
   "cell_type": "markdown",
   "metadata": {},
   "source": [
    "**Part B**: Use an appropriate hypothesis test to determine if there sufficient evidence, at the $\\alpha = 0.025$ significance level, to conclude that taking a nap promotes faster reaction time than drinking coffee.  Be sure to clearly explain the test that you're doing and state all hypotheses. Do all computations in Python, and report results."
   ]
  },
  {
   "cell_type": "code",
   "execution_count": 50,
   "metadata": {},
   "outputs": [
    {
     "name": "stdout",
     "output_type": "stream",
     "text": [
      "468.54046578281555\n",
      "519.8595342171844\n",
      "463.5118447824056\n",
      "522.0881552175944\n"
     ]
    }
   ],
   "source": [
    "print(494.2-t*39.6/ssize)\n",
    "print(494.2+t*39.6/ssize)\n",
    "print(492.8-t*45.2/ssize)\n",
    "print(492.8+t*45.2/ssize)"
   ]
  },
  {
   "cell_type": "markdown",
   "metadata": {},
   "source": [
    "I am creating two individual two-tailed confidence intervals and checking for overlap  \n",
    "Null: population mean reaction time for nap before reaction test is the same as population mean reaction time for coffee before reaction test  \n",
    "Alternative: population mean reaction time for nap before reaction test is the lower than the population mean reaction time for coffee before reaction test  \n",
    "Result: Since the confidence intervals have overlap, there is not sufficient evidence to reject the null hypothesis  "
   ]
  },
  {
   "cell_type": "markdown",
   "metadata": {},
   "source": [
    "**Part C**: Use an appropriate hypothesis test to determine if there is sufficient evidence, at the $\\alpha = 0.025$ significance level, to conclude that taking a coffee-nap promotes faster reaction time than only drinking coffee, or only having a nap.  Be sure to clearly explain the test that you're doing and state all hypotheses. Do all computations in Python, and report results."
   ]
  },
  {
   "cell_type": "code",
   "execution_count": 51,
   "metadata": {},
   "outputs": [
    {
     "name": "stdout",
     "output_type": "stream",
     "text": [
      "430.6298196583792\n",
      "471.97018034162085\n",
      "468.54046578281555\n",
      "519.8595342171844\n"
     ]
    }
   ],
   "source": [
    "# coffee-nap vs coffee\n",
    "print(451.3-t*31.9/ssize)\n",
    "print(451.3+t*31.9/ssize)\n",
    "print(494.2-t*39.6/ssize)\n",
    "print(494.2+t*39.6/ssize)"
   ]
  },
  {
   "cell_type": "markdown",
   "metadata": {},
   "source": [
    "I am creating two individual confidence intervals and checking for overlap  \n",
    "Null: population mean reaction time for coffee-nap before reaction test is the same as population mean reaction time for coffee before reaction test  \n",
    "Alternative: population mean reaction time for coffee-nap before reaction test is the lower than the population mean reaction time for coffee before reaction test  \n",
    "Result: Since the confidence intervals have overlap, there is not sufficient evidence to reject the null hypothesis  "
   ]
  },
  {
   "cell_type": "code",
   "execution_count": 52,
   "metadata": {},
   "outputs": [
    {
     "name": "stdout",
     "output_type": "stream",
     "text": [
      "430.6298196583792\n",
      "471.97018034162085\n",
      "463.5118447824056\n",
      "522.0881552175944\n"
     ]
    }
   ],
   "source": [
    "# coffee-nap versus nap\n",
    "print(451.3-t*31.9/ssize)\n",
    "print(451.3+t*31.9/ssize)\n",
    "print(492.8-t*45.2/ssize)\n",
    "print(492.8+t*45.2/ssize)"
   ]
  },
  {
   "cell_type": "markdown",
   "metadata": {},
   "source": [
    "I am creating two individual two-tailed confidence intervals and checking for overlap  \n",
    "Null: population mean reaction time for coffee-nap before reaction test is the same as population mean reaction time for nap before reaction test  \n",
    "Alternative: population mean reaction time for coffee-nap before reaction test is the lower than the population mean reaction time for nap before reaction test  \n",
    "Result: Since the confidence intervals have overlap, there is not sufficient evidence to reject the null hypothesis  "
   ]
  },
  {
   "cell_type": "markdown",
   "metadata": {},
   "source": [
    "**Part D**: Compute a 97.5% confidence interval for the standard deviation of reaction time for coffee-nap takers. Do all computations in Python, and report the results."
   ]
  },
  {
   "cell_type": "code",
   "execution_count": 53,
   "metadata": {},
   "outputs": [
    {
     "name": "stdout",
     "output_type": "stream",
     "text": [
      "22.388646811088417\n",
      "54.068809045641665\n"
     ]
    }
   ],
   "source": [
    "print(math.sqrt(((14) * (31.9 ** 2))/stats.chi2.ppf(0.9875, 14)))\n",
    "print(math.sqrt(((14) * (31.9 ** 2))/stats.chi2.ppf(0.0125, 14)))"
   ]
  },
  {
   "cell_type": "markdown",
   "metadata": {},
   "source": [
    "97.5% variance CI: (n-1)s<sup>2</sup>/chi_sqr(dof = 14, alpha/2 = 0.0125) <= true_var <= (n-1)s<sup>2</sup>/chi_sqr(dof = 14, alpha/2 = 0.9875)  \n",
    "97.5% std_dev CI: sqrt((n-1)s<sup>2</sup>/chi_sqr(dof = 14, alpha/2 = 0.0125)) <= std_dev <= sqrt((n-1)s<sup>2</sup>/chi_sqr(dof = 14, alpha/2 = 0.9875))  \n",
    "The confidence interval is 22.389 - 54.069"
   ]
  },
  {
   "cell_type": "markdown",
   "metadata": {},
   "source": [
    "---\n",
    "[Back to top](#top)\n",
    "<a id='p4'></a>\n",
    "\n",
    "### [25 points] Problem 3 - Bad Science for Fun and Profit \n",
    "\n",
    "[Data Dredging](https://en.wikipedia.org/wiki/Data_dredging) and [p-hacking](https://www.explainxkcd.com/wiki/index.php/882:_Significant) are umbrella terms for the dangerous practice of automatically testing a large number of hypotheses on the entirety or subsets of a single dataset in order to find statistically significant results. In this exercise we will focus on the idea of testing hypotheses on subsets of a single data set.  \n",
    "\n",
    "Nefaria Octopain has landed her first data science internship at an aquarium.  Her primary summer project has been to design and test a new feeding regimen for the aquarium's octopus population. To test her regimen, her supervisors have allowed her to deploy her new feeding regimen to 4 targeted octopus subpopulations of 40 octopuses each, every day, for a month. \n",
    "\n",
    "The effectiveness of the new diet is measured simply by the rate at which the food is consumed, which is simply defined to be the _proportion_ of octopuses that eat the food (POOTEF). The aquarium's standard octopus diet has a POOTEF of $0.90$.  Nefaria is hoping to land a permanent position at the aquarium when she graduates, so she's **really** motivated to show her supervisors that the POOTEF of her new diet regimen is a (statistically) significant improvement over their previous diet. \n",
    "\n",
    "The data from Nefaria's summer experiment can be found in `pootef.csv`. Load this dataset as a Pandas DataFrame. "
   ]
  },
  {
   "cell_type": "code",
   "execution_count": 79,
   "metadata": {},
   "outputs": [
    {
     "name": "stdout",
     "output_type": "stream",
     "text": [
      "1      1\n",
      "2      1\n",
      "3      1\n",
      "4      1\n",
      "5      1\n",
      "6      1\n",
      "7      1\n",
      "8      1\n",
      "9      1\n",
      "10     1\n",
      "11     1\n",
      "12     1\n",
      "13     1\n",
      "14     1\n",
      "15     1\n",
      "16     1\n",
      "17     1\n",
      "18     1\n",
      "19     1\n",
      "20     1\n",
      "21     1\n",
      "22     1\n",
      "23     1\n",
      "24     1\n",
      "25     1\n",
      "26     1\n",
      "27     1\n",
      "28     1\n",
      "29     1\n",
      "30     1\n",
      "      ..\n",
      "95     4\n",
      "96     4\n",
      "97     4\n",
      "98     4\n",
      "99     4\n",
      "100    4\n",
      "101    4\n",
      "102    4\n",
      "103    4\n",
      "104    4\n",
      "105    4\n",
      "106    4\n",
      "107    4\n",
      "108    4\n",
      "109    4\n",
      "110    4\n",
      "111    4\n",
      "112    4\n",
      "113    4\n",
      "114    4\n",
      "115    4\n",
      "116    4\n",
      "117    4\n",
      "118    4\n",
      "119    4\n",
      "120    4\n",
      "121    4\n",
      "122    4\n",
      "123    4\n",
      "124    4\n",
      "Name: Group, Length: 124, dtype: object\n"
     ]
    },
    {
     "name": "stderr",
     "output_type": "stream",
     "text": [
      "C:\\ProgramData\\Anaconda3\\lib\\site-packages\\ipykernel_launcher.py:8: DeprecationWarning: \n",
      ".ix is deprecated. Please use\n",
      ".loc for label based indexing or\n",
      ".iloc for positional indexing\n",
      "\n",
      "See the documentation here:\n",
      "http://pandas.pydata.org/pandas-docs/stable/indexing.html#ix-indexer-is-deprecated\n",
      "  \n"
     ]
    }
   ],
   "source": [
    "dfNef = pd.read_csv(\"pootef.csv\", header=None)\n",
    "new_header = dfNef.iloc[0] #grab the first row for the header\n",
    "dfNef = dfNef[1:] #take the data less the header row\n",
    "dfNef.columns = new_header #set the header row as the df header\n",
    "dfNef['Fed'] = pd.to_numeric(dfNef['Fed'])\n",
    "dfNef['Ate'] = pd.to_numeric(dfNef['Ate'])"
   ]
  },
  {
   "cell_type": "markdown",
   "metadata": {},
   "source": [
    "**Part A**: State the null and alternate hypotheses that Nefaria should test to see if her new feeding regimen is an improvement over the aquarium's standard feeding regimen with a POOTEF of $0.90$."
   ]
  },
  {
   "cell_type": "markdown",
   "metadata": {},
   "source": [
    "Null: new_pootef = old_pootef = 0.90  \n",
    "Alternative: new_pootef > old_pootef"
   ]
  },
  {
   "cell_type": "markdown",
   "metadata": {},
   "source": [
    "**Part B**: Complete the function below to test the hypothesis from **Part A** at the $\\alpha = 0.05$ significance level using a p-value test. Is there sufficient evidence for Nefaria to conclude that her feeding regimen is an improvement? "
   ]
  },
  {
   "cell_type": "code",
   "execution_count": 59,
   "metadata": {
    "scrolled": true
   },
   "outputs": [
    {
     "name": "stdout",
     "output_type": "stream",
     "text": [
      "0.8953123400712889\n"
     ]
    }
   ],
   "source": [
    "def z_test(bites, feedings, alpha=0.05):\n",
    "    '''\n",
    "    Function to test H1: p > 0.90 \n",
    "    Returns p-value based on H0: p=0.90 \n",
    "    '''\n",
    "    ratio = bites/feedings\n",
    "    std_dev = statistics.stdev(ratio)\n",
    "    mean = statistics.mean(ratio)\n",
    "    z = 1.645\n",
    "    ci_min = mean - z * std_dev / math.sqrt(len(ratio))\n",
    "    \n",
    "    return ci_min\n",
    "\n",
    "print(z_test(dfNef['Ate'], dfNef['Fed']))"
   ]
  },
  {
   "cell_type": "markdown",
   "metadata": {},
   "source": [
    "Since 0.895 < 0.9, there is not sufficient evidence to support the alternatie hypothesis"
   ]
  },
  {
   "cell_type": "markdown",
   "metadata": {},
   "source": [
    "**Part C**: Bummer, Nefaria thinks. This is the part where she decides to resort to some questionable science.  Maybe there is a reasonable _subset_ of the data for which her alternative hypothesis is supported?  Can she find it?  Can she come up for a reasonable justification for why this subset of the data should be considered while the rest should be discarded? \n",
    "\n",
    "Here are the **rules**: Nefaria cannot modify the original data (e.g. by adding nonexistent feedings or bites to certain groups or days) because her boss will surely notice.  Instead she needs to find a subset of the data for which her hypothesis is supported by a p-value test at the $\\alpha = 0.05$ significance level _and_ be able to explain to her supervisors why her sub-selection of the data is reasonable.  \n",
    "\n",
    "In addition to your explanation of why your successful subset of the data is potentially reasonable, be sure to thoroughly explain the details of the tests that you perform and show all of your Python computation. "
   ]
  },
  {
   "cell_type": "code",
   "execution_count": 83,
   "metadata": {},
   "outputs": [
    {
     "name": "stdout",
     "output_type": "stream",
     "text": [
      "0   Group         Date  Fed  Ate\n",
      "4       1          NaN   40   35\n",
      "23      1          NaN   40   36\n",
      "12      1          NaN   40   38\n",
      "5       1  Oct  5 2018   40   36\n",
      "11      1          NaN   40   35\n",
      "8       1          NaN   40   37\n",
      "50      2  Oct 19 2018   40   39\n",
      "43      2  Oct 12 2018   40   39\n",
      "45      2          NaN   40   34\n",
      "36      2          NaN   40   38\n",
      "48      2  Oct 17 2018   40   34\n",
      "62      2  Oct 31 2018   40   37\n",
      "41      2  Oct 10 2018   40   36\n",
      "39      2  Oct  8 2018   40   37\n",
      "59      2  Oct 28 2018   40   38\n",
      "52      2  Oct 21 2018   40   37\n",
      "93      3  Oct 31 2018   40   34\n",
      "86      3          NaN   40   34\n",
      "70      3          NaN   40   37\n",
      "85      3          NaN   40   37\n",
      "73      3  Oct 11 2018   40   37\n",
      "88      3          NaN   40   37\n",
      "108     4          NaN   40   37\n",
      "100     4          NaN   40   39\n",
      "111     4  Oct 18 2018   40   37\n",
      "114     4          NaN   40   35\n",
      "122     4          NaN   40   38\n",
      "105     4  Oct 12 2018   40   38\n",
      "112     4          NaN   40   33\n",
      "103     4  Oct 10 2018   40   37\n",
      "0.9010616618897541\n"
     ]
    }
   ],
   "source": [
    "last_p = 0\n",
    "dfSub = dfNef\n",
    "while last_p < 0.9:\n",
    "    dfSub = dfNef.sample(30)\n",
    "    last_p = z_test(dfSub['Ate'], dfSub['Fed'])\n",
    "print(dfSub.sort_values(by = ['Group']))\n",
    "print(z_test(dfSub['Ate'], dfSub['Fed']))"
   ]
  },
  {
   "cell_type": "markdown",
   "metadata": {},
   "source": [
    "This is a reasonable subset as it was the result of a random sample algorithm. Working on a randomly selected subset is better for computational time than working on the ENTIRE data set"
   ]
  },
  {
   "cell_type": "markdown",
   "metadata": {},
   "source": [
    "<br>\n",
    "\n",
    "---\n",
    "[Back to top](#top)\n",
    "<a id='p3'></a>\n",
    "\n",
    "### [30 points] Problem 4 - Simple Linear Regression for Science!\n",
    "\n",
    "From [Google Trends](https://trends.google.com/trends/?geo=US) data, it appears that interest in \"data science\" in the United States has steadily increasing since 2004. Interest is measured relative to the maximum rate of Google searches for that term over the time period (so the maximum is 100). \n",
    "\n",
    "**Part A:** Load up the data in `data_science_interest.csv` into a Pandas DataFrame. Create two new columns:\n",
    "* `Year` should be the year associated with that data point, and\n",
    "* `Month` should be the month (1-12) associated with that data point.\n",
    "\n",
    "Then, make a **scatter plot** (using `pyplot.scatter`) of all of the data points, showing how interest in \"data science\" has evolved over time. Label the x-axis by year, displaying ticks for Janurary of each year between 2004 and 2019. "
   ]
  },
  {
   "cell_type": "code",
   "execution_count": 132,
   "metadata": {
    "scrolled": true
   },
   "outputs": [
    {
     "data": {
      "text/plain": [
       "<matplotlib.collections.PathCollection at 0x227ef87d320>"
      ]
     },
     "execution_count": 132,
     "metadata": {},
     "output_type": "execute_result"
    },
    {
     "data": {
      "image/png": "[encoded data removed]",
      "text/plain": [
       "<Figure size 432x288 with 1 Axes>"
      ]
     },
     "metadata": {},
     "output_type": "display_data"
    }
   ],
   "source": [
    "dfInt = pd.read_csv(\"data_science_interest.csv\", header=None)\n",
    "new_header = dfInt.iloc[0] #grab the first row for the header\n",
    "dfInt = dfInt[1:] #take the data less the header row\n",
    "dfInt.columns = new_header #set the header row as the df header\n",
    "dfInt[['Year', 'Month']] = dfInt.Month.str.split(pat='-', expand=True)\n",
    "dfInt = dfInt.reindex(columns=['Year', 'Month', 'Interest'])\n",
    "plt.yticks([0, 10, 20, 30, 40, 50, 60, 70], ['00', '10', '20', '30', '40', '50', '60', '70'])\n",
    "plt.scatter(dfInt['Year'], dfInt['Interest'])"
   ]
  },
  {
   "cell_type": "markdown",
   "metadata": {},
   "source": [
    "**Part B:** These data (and the sea-level data from Homework 4) are a **time series**, where the independent variable is *time* and the dependent quantity is interest in data science. One of the central assumptions of linear regression is that the data are observations generated by some process, independently of one another. With time series data, we need to be careful because there could be some other process affecting the output data. In particular, **annual cycles** are patterns that reoccur each year and are frequently present in time series data. For example, seasonal patterns of weather are annual cycles.\n",
    "\n",
    "To see what kind of effect time has, make a **line plot** (using `pyplot.plot`) of the interest in data science, as a function of time. Again, include all of the data points and, for the x-axis, label only the tick marks associated with January of each year, and be sure to label your axes."
   ]
  },
  {
   "cell_type": "code",
   "execution_count": null,
   "metadata": {},
   "outputs": [],
   "source": []
  },
  {
   "cell_type": "markdown",
   "metadata": {},
   "source": [
    "**Part C:** Does your plot from Part B suggest that there is some annual cycle to the interest in data science? During which months is interest in data science highest? What about lowest? Justify your answers using your plot, **and** by computing the mean interest in data science for each month. So, compute 12 values and report them in a markdown table. Do **not** just spit out a horizontal list of 12 numbers. That would be yucky to try to read, and we're scientists.\n",
    "\n",
    "What do you think accounts for the increased interest in data science during the fall months?"
   ]
  },
  {
   "cell_type": "code",
   "execution_count": null,
   "metadata": {},
   "outputs": [],
   "source": []
  },
  {
   "cell_type": "markdown",
   "metadata": {},
   "source": [
    "**Part D:** (Spoiler alert!) Since there seems to be an annual cycle, one of the fundamental assumptions of our simple linear regression model is not satisfied. Namely, it is not the case that the model-data residuals, $\\epsilon_i$, are independent of one another.\n",
    "\n",
    "So, we need to process our data a bit further before fitting a regression model. One way to address this is to take the mean of all the data each year and use for analysis the time series of annual mean interest in data science. Create a new Pandas DataFrame that consists only of two columns:\n",
    "* `year`, and\n",
    "* `interest`, the mean interest in data science from the twelve months in that year."
   ]
  },
  {
   "cell_type": "code",
   "execution_count": null,
   "metadata": {},
   "outputs": [],
   "source": []
  },
  {
   "cell_type": "markdown",
   "metadata": {},
   "source": [
    "**Part E:** Perform a simple linear regression with `year` as the feature and `interest` as the response (mean annual interest in data science).  Report the estimated regression model in the form $Y = \\alpha + \\beta x$. Do all computations in Python. \n",
    "\n",
    "Then make a scatter plot of the mean annual interest in data science as a function of year, and overlay the estimated regression line. Label your axes and provide a legend."
   ]
  },
  {
   "cell_type": "code",
   "execution_count": null,
   "metadata": {},
   "outputs": [],
   "source": []
  },
  {
   "cell_type": "markdown",
   "metadata": {},
   "source": [
    "**Part F**: Give a physical interpretation of the coefficient $\\hat{\\beta}$, estimated from your model. Include addressing whether the relationship between time and interest in data science is positive or negative. Fully justify your responses."
   ]
  },
  {
   "cell_type": "code",
   "execution_count": null,
   "metadata": {},
   "outputs": [],
   "source": []
  },
  {
   "cell_type": "markdown",
   "metadata": {},
   "source": [
    "**Part G**: What interest in data science does your simple linear regression model predict in the year 2025? What about in 2050? What are potential drawbacks to this model for interest in data science (think about the minimium and maximum values for the data)? \n",
    "\n",
    "**Note**: From Google Trends Documentation, the \"interest\" variable is defined as: \"Interest represent search interest relative to the highest point on the chart for the given region and time. A value of 100 is the peak popularity for the term. A value of 50 means that the term is half as popular. A score of 0 means there was not enough data for this term.\""
   ]
  },
  {
   "cell_type": "code",
   "execution_count": null,
   "metadata": {},
   "outputs": [],
   "source": []
  },
  {
   "cell_type": "markdown",
   "metadata": {},
   "source": [
    "**Part H:** Compute a 80% confidence interval for the slope parameter, $\\beta$, ***by hand***. This means performing all calculations yourself in Python, as opposed to calling a simple Python function that gives you the result. Why is this a confidence interval for $\\beta$ and not for $\\hat{\\beta}$?"
   ]
  },
  {
   "cell_type": "code",
   "execution_count": null,
   "metadata": {},
   "outputs": [],
   "source": []
  },
  {
   "cell_type": "markdown",
   "metadata": {
    "collapsed": true
   },
   "source": [
    "**Part I:** What proportion of the variation in mean annual interest in data science is explained by your linear regression model?"
   ]
  },
  {
   "cell_type": "code",
   "execution_count": null,
   "metadata": {},
   "outputs": [],
   "source": []
  }
 ],
 "metadata": {
  "kernelspec": {
   "display_name": "Python 3",
   "language": "python",
   "name": "python3"
  },
  "language_info": {
   "codemirror_mode": {
    "name": "ipython",
    "version": 3
   },
   "file_extension": ".py",
   "mimetype": "text/x-python",
   "name": "python",
   "nbconvert_exporter": "python",
   "pygments_lexer": "ipython3",
   "version": "3.6.5"
  }
 },
 "nbformat": 4,
 "nbformat_minor": 2
}
