{
 "cells": [
  {
   "cell_type": "markdown",
   "metadata": {},
   "source": [
    "<a id='top'></a>\n",
    "\n",
    "# CSCI 3022: Intro to Data Science - Fall 2019 Practicum 1\n",
    "***\n",
    "\n",
    "This practicum is due on Canvas by **11:59 PM on Friday October 11**. Your solutions to theoretical questions should be done in Markdown/MathJax directly below the associated question.  Your solutions to computational questions should include any specified Python code and results as well as written commentary on your conclusions.  \n",
    "\n",
    "**Here are the rules:** \n",
    "\n",
    "1. All work, code and analysis, must be your own. \n",
    "1. You may use your course notes, posted lecture slides, textbooks, in-class notebooks, and homework solutions as resources.  You may also search online for answers to general knowledge questions like the form of a probability distribution function or how to perform a particular operation in Python/Pandas. \n",
    "1. This is meant to be like a coding portion of your midterm exam. So, the instructional team will be much less helpful than we typically are with homework. For example, we will not check answers, help debug your code, and so on.\n",
    "1. If something is left open-ended, it is because we want to see how you approach the kinds of problems you will encounter in the wild, where it will not always be clear what sort of tests/methods should be applied. Feel free to ask clarifying questions though.\n",
    "2. You may **NOT** post to message boards or other online resources asking for help.\n",
    "3. You may **NOT** copy-paste solutions *from anywhere*.\n",
    "4. You may **NOT** collaborate with classmates or anyone else.\n",
    "5. In short, **your work must be your own**. It really is that simple.\n",
    "\n",
    "Violation of the above rules will result in an immediate academic sanction (*at the very least*, you will receive a 0 on this practicum or an F in the course, depending on severity), and a trip to the Honor Code Council.\n",
    "\n",
    "**By submitting this assignment, you agree to abide by the rules given above.**\n",
    "\n",
    "***\n",
    "\n",
    "**Name**:  \n",
    "\n",
    "***\n",
    "\n",
    "\n",
    "**NOTES**: \n",
    "\n",
    "- You may not use late days on the practicums nor can you drop your practicum grades. \n",
    "- If you have a question for us, post it as a **PRIVATE** message on Piazza.  If we decide that the question is appropriate for the entire class, then we will add it to a Practicum clarifications thread. \n",
    "- Do **NOT** load or use any Python packages that are not available in Anaconda 3.6. \n",
    "- Some problems with code may be autograded.  If we provide a function API **do not** change it.  If we do not provide a function API then you're free to structure your code however you like. \n",
    "- Submit only this Jupyter notebook to Canvas.  Do not compress it using tar, rar, zip, etc. \n",
    "- This should go without saying, but... For any question that asks you to calculate something, you **must show all work to receive credit**. Sparse or nonexistent work will receive sparse or nonexistent credit.\n",
    "\n",
    "---\n",
    "**Shortcuts:**  [Problem 1](#p1) | [Problem 2](#p2) | [Problem 3](#p3) |[Bottom](#bot)\n",
    "\n",
    "---"
   ]
  },
  {
   "cell_type": "code",
   "execution_count": 60,
   "metadata": {},
   "outputs": [],
   "source": [
    "from scipy import stats\n",
    "from random import randint\n",
    "import random\n",
    "from scipy.special import binom\n",
    "import numpy as np \n",
    "import pandas as pd\n",
    "import matplotlib.pyplot as plt\n",
    "import math\n",
    "import csv\n",
    "%matplotlib inline"
   ]
  },
  {
   "cell_type": "markdown",
   "metadata": {},
   "source": [
    "<br>\n",
    "\n",
    "---\n",
    "[Back to top](#top)\n",
    "<a id='p1'></a>\n",
    "\n",
    "### [30 points] Problem 1: Rubber Ducky Race"
   ]
  },
  {
   "cell_type": "markdown",
   "metadata": {},
   "source": [
    "Every year, the Aspen Valley Rotary Club hosts a [rubber ducky race](https://www.aspenrotary.org/page/the-ducky-derby). Each Rubber Ducky is stamped with a number, tickets are sold  and if your ducky makes it to the end of the course first, you win. Exact Rules follow:\n",
    "\n",
    "1. The Rotary Club sells \"Duck Adoption\" papers. Only Ducks that have been adopted start the race, so there must always be a winner.\n",
    "2. The ducks are dumped into a river and race to a finish line. The adoptive parent of the first duck across the line wins. The standard prize is 15,000 dollars.\n",
    "3. Before the start of the duck race, the Rotary Club randomly draws a number of special ducks. For every 3,333 ducks that start the race, 1 special duck is drawn.\n",
    "4. If a special duck wins the race the prize is increased from 15,000 dollars to 1,000,000 dollars.\n",
    "\n",
    "**Assume that all ducks are equally likely to win the ducky race.**"
   ]
  },
  {
   "cell_type": "markdown",
   "metadata": {},
   "source": [
    "**Part A:**\n",
    "Given that 9999 ducks start the race and you purchase 1 duck, calculate the probability by hand that your duck is selected as a special ducky."
   ]
  },
  {
   "cell_type": "markdown",
   "metadata": {},
   "source": [
    "3/9999 = 1/3333"
   ]
  },
  {
   "cell_type": "markdown",
   "metadata": {},
   "source": [
    "**Part B:** Calculate the probability that the rotary club pays out the million dollar prize."
   ]
  },
  {
   "cell_type": "markdown",
   "metadata": {},
   "source": [
    "3/9999 = 1/3333"
   ]
  },
  {
   "cell_type": "markdown",
   "metadata": {},
   "source": [
    "**Part C:** Calculate the probability that your duck is both picked as a special duck and wins the race."
   ]
  },
  {
   "cell_type": "markdown",
   "metadata": {},
   "source": [
    "Since the status of being a special duck does not change win probability, they are independant  \n",
    "Therefore, P(Special and Win) = P(Special)P(Win) = 1/3333\\*(1/9999) = 1/33326667‬"
   ]
  },
  {
   "cell_type": "markdown",
   "metadata": {},
   "source": [
    "**Part D:** Calculate the expected payout for the Rotary Club for a 9999 duck race. "
   ]
  },
  {
   "cell_type": "markdown",
   "metadata": {},
   "source": [
    "E\\[P\\] = 1/3333\\8\\*1000000+3332/3333\\*15000 = 300.03+14995.50 = 15,295.53"
   ]
  },
  {
   "cell_type": "markdown",
   "metadata": {},
   "source": [
    "**Part E:** The Rotary Club takes out an insurance policy on having to pay the 1,000,000 dollar prize. They pay $500 per duck race to the insurance company. From your answer above, is this worth it? Explain. Is there any number of ducks that make the insurance policy a good deal? If it is not worth it, what's a reason the the Rotary Club might buy the policy anyways? "
   ]
  },
  {
   "cell_type": "markdown",
   "metadata": {},
   "source": [
    "This is not worth it, since you expect the million-dollar offer to cost an average of 300.03 dollars per race  \n",
    "There is no amount of ducks that make it worth it. Since the special duck count is rounded down, the closest to worth it you can get it when num_ducks%3333=0, which is the case with 9999.  \n",
    "They might buy the policy anyway given the case where \\$500 is small cash relative to the event and $1,000,000 is crippling"
   ]
  },
  {
   "cell_type": "markdown",
   "metadata": {},
   "source": [
    "**Part F:** Write a python function that simulates a single duck race. It should use the api below and the class written for you. DO NOT CHANGE THE API OR THE ENUMERATED CLASS. The function should take the number of ducks that start the race in as a parameter, and return a tuple of the duck's number that won, and the type of winner that duck was. \n",
    "\n",
    "[E.g. (1522, <Types_Of_Winner.REGULAR: 0>) ] \n",
    "\n",
    "The duck numbers start at 1 and go until the number passed in (Eg. For 500 ducks, the ducks are numbered 1 to 500. No Duck is numbered 0)."
   ]
  },
  {
   "cell_type": "code",
   "execution_count": 61,
   "metadata": {},
   "outputs": [],
   "source": [
    "from enum import Enum\n",
    "#Dont change this. You should return a tuple of (int, Type_Of_Winner) in the function below. \n",
    "#The type of winner should be from this class. The int should represent the duck number of the winning duck.\n",
    "#If you want more info about Enumerated Types in python: https://docs.python.org/3/library/enum.html\n",
    "class Types_Of_Winner(Enum):\n",
    "    REGULAR = 0\n",
    "    SPECIAL = 1\n",
    "\n",
    "#don't change this api. We will use a set of unit tests to test this. \n",
    "#This uses a default parameter. If you are unfamiliar with default parameters: \n",
    "#https://www.geeksforgeeks.org/default-arguments-in-python/ \n",
    "#Don't change the default parameter.\n",
    "def rubber_Ducky_Race(number_Of_Ducks=3333):\n",
    "    winning_Duck_Number = random.randint(1,number_Of_Ducks)\n",
    "    special_Ducks=random.sample(range(1,number_Of_Ducks), math.floor(number_Of_Ducks/3333))\n",
    "    if winning_Duck_Number not in special_Ducks:\n",
    "        type_Of_Winner = Types_Of_Winner.REGULAR\n",
    "    else:\n",
    "        type_Of_Winner = Types_Of_Winner.SPECIAL\n",
    "    \n",
    "    #you can change the variable names, but must return tuple of type (int, Types_Of_Winner)\n",
    "    return (winning_Duck_Number, type_Of_Winner)\n",
    "    "
   ]
  },
  {
   "cell_type": "markdown",
   "metadata": {},
   "source": []
  },
  {
   "cell_type": "markdown",
   "metadata": {},
   "source": [
    "**Part G:** Write a python function that takes in a number of duck races (num_Duck_Races) and a number of ducks per race (num_Ducks_Per_Race). The function should run the function you wrote in part F by passing the number of ducks to the function from part F. It should run the function from part F num_Duck_Races times, and record all the results. It then should calculate the amount of money the rotary club paid out in each race and return a list of the rotary club's payouts (integer values of dollars paid out). Don't change the API as we will be auto grading this."
   ]
  },
  {
   "cell_type": "code",
   "execution_count": 62,
   "metadata": {},
   "outputs": [],
   "source": [
    "#Don't change this api. Use the parameters passed in in your implemenation of this function.\n",
    "def run_Simulation_Duck_Race(num_Duck_Races, num_Ducks_Per_Race):\n",
    "    payout_List = []\n",
    "    for i in range(num_Duck_Races):\n",
    "        race_Result = rubber_Ducky_Race(num_Ducks_Per_Race)\n",
    "        if (race_Result[1] == Types_Of_Winner.REGULAR):\n",
    "            payout_List.append(15000)\n",
    "        else:\n",
    "            payout_List.append(1000000)\n",
    "    return payout_List"
   ]
  },
  {
   "cell_type": "markdown",
   "metadata": {},
   "source": [
    "**Part H:** Run the simulation function you made in part G 50 times for 1111 duck races each with 3333 ducks per race. Calculate the mean of each list of payouts returned by your function from part F and plot the mean payout values on a histogram. We recommend using the default bins argument here (don't pass it in). Make sure to make your histogram legible, label the plot, and label the x and the y axes (with their units). Do this all in one cell and run the cell a few times and see what different histograms are generated from the simulations. When you find one with three distinct \"bars\" leave it in the output of the cell. Explain why this histogram makes sense. Your answer here should talk about what each distinct \"bar\" in the histogram represents, the probabiity that the rotary club pays out the million dollar prize, and the number of races in each simulation. "
   ]
  },
  {
   "cell_type": "code",
   "execution_count": 66,
   "metadata": {},
   "outputs": [
    {
     "data": {
      "text/plain": [
       "Text(0,0.5,'Frequency')"
      ]
     },
     "execution_count": 66,
     "metadata": {},
     "output_type": "execute_result"
    },
    {
     "data": {
      "image/png": "[encoded data removed]",
      "text/plain": [
       "<Figure size 432x288 with 1 Axes>"
      ]
     },
     "metadata": {},
     "output_type": "display_data"
    }
   ],
   "source": [
    "mean_List = []\n",
    "for i in range(50):\n",
    "    result = run_Simulation_Duck_Race(1111, 3333)\n",
    "    mean_List.append(sum(result)/len(result))\n",
    "plt.hist(mean_List)\n",
    "plt.title(\"Duck Race Payouts\")\n",
    "plt.xlabel(\"Value\")\n",
    "plt.ylabel(\"Frequency\")"
   ]
  },
  {
   "cell_type": "markdown",
   "metadata": {},
   "source": [
    "The first bar, at 15000, is all simulations that had no special ducks win, causing a mean of 15000. The next, around 15900, is all simulations with one special duck winner, causing a mean of 15887. The next is two special duck winners, and so on."
   ]
  },
  {
   "cell_type": "markdown",
   "metadata": {},
   "source": [
    "**Part I:** Pick a lucky number in between 1 and 7000 and run your function from part F 25000 times with 7,000 ducks. Capture all the results and find the number of times your duck won! Was your duck ever a winner or even a special Million Dollar Winner?"
   ]
  },
  {
   "cell_type": "code",
   "execution_count": 56,
   "metadata": {},
   "outputs": [
    {
     "name": "stdout",
     "output_type": "stream",
     "text": [
      "Regular wins: 5\n",
      "Special wins: 0\n"
     ]
    }
   ],
   "source": [
    "lucky_Number = 1337\n",
    "regular_Wins = 0\n",
    "special_Wins = 0\n",
    "for i in range(25000):\n",
    "    result = rubber_Ducky_Race(7000)\n",
    "    if (result[0] == lucky_Number):\n",
    "        if (result[1] == Types_Of_Winner.REGULAR):\n",
    "            regular_Wins += 1\n",
    "        else:\n",
    "            special_Wins += 1\n",
    "print(\"Regular wins: \" + str(regular_Wins))\n",
    "print(\"Special wins: \" + str(special_Wins))"
   ]
  },
  {
   "cell_type": "markdown",
   "metadata": {},
   "source": [
    "My duck won 5 times, all as a regular duck"
   ]
  },
  {
   "cell_type": "markdown",
   "metadata": {},
   "source": [
    "<br>\n",
    "\n",
    "---\n",
    "[Back to top](#top)\n",
    "<a id='p2'></a>\n",
    "\n",
    "### [20 points] Problem 2: Tax Fraud\n",
    "\n",
    "Let $X =$ the leading digit of a randomly selected number from a large accounting ledger. So, for example, if we randomly draw the number $\\$20,695$, then $X = 2$. People who make up numbers to commit accounting fraud tend to give $X$ a (discrete) uniform distribution, i.e., $P(X = x) = 1/9$, for $x \\in \\{1,...,9\\}$. However, there is empirical evidence that suggests that \"naturally occurring\" numbers (e.g., numbers in a non-fraudulent accounting ledger) have leading digits that do not follow a uniform distribution. Instead, they follow a distribution defined by:\n",
    "\n",
    "\\begin{align*}\n",
    "f(x) = \\log_{10}\\bigg(\\frac{x+1}{x}\\bigg), \\,\\,\\,\\, x = 1,2,...,9.\n",
    "\\end{align*} \n",
    "\n",
    "Using ${\\tt tax.txt}$, a dataset containing the taxable incomes for individuals in 1978, we will decide whether this dataset is fraudulent. \n",
    "\n",
    "\n",
    "\n",
    "**Part A**:  Read in the data and create a variable that holds only the character of each data point."
   ]
  },
  {
   "cell_type": "code",
   "execution_count": 104,
   "metadata": {},
   "outputs": [],
   "source": [
    "with open(\"tax.txt\", newline='') as tax_data:\n",
    "    first_nums = []\n",
    "    expected_nums = []\n",
    "    total_nums = 0\n",
    "    tax_info = csv.reader(tax_data, delimiter='\\t')\n",
    "    for item in tax_info:\n",
    "        total_nums+=1\n",
    "        num = item[1]\n",
    "        first_nums.append(int(num[0]))\n",
    "    for i in range(1, 10):\n",
    "        density = math.log(((i+1)/i), 10)\n",
    "        im_sorry = int(density * total_nums)\n",
    "        for j in range(im_sorry):\n",
    "            expected_nums.append(i)"
   ]
  },
  {
   "cell_type": "markdown",
   "metadata": {},
   "source": [
    "first_nums contains all first digits"
   ]
  },
  {
   "cell_type": "markdown",
   "metadata": {},
   "source": [
    "**Part B**: Create a histogram of the data that also plots or overlays the suggested non-fradulent density $f(x)$ as well as the density of the discrete uniform over the same support."
   ]
  },
  {
   "cell_type": "code",
   "execution_count": 105,
   "metadata": {},
   "outputs": [
    {
     "data": {
      "text/plain": [
       "Text(0,0.5,'Frequency')"
      ]
     },
     "execution_count": 105,
     "metadata": {},
     "output_type": "execute_result"
    },
    {
     "data": {
      "image/png": "[encoded data removed]",
      "text/plain": [
       "<Figure size 432x288 with 1 Axes>"
      ]
     },
     "metadata": {},
     "output_type": "display_data"
    }
   ],
   "source": [
    "    l1 = list()\n",
    "    plt.hist([first_nums, expected_nums], alpha = 0.5, label = [\"Actual\", \"Expected\"])\n",
    "    plt.legend()\n",
    "    plt.title(\"First Digits\")\n",
    "    plt.xlabel(\"Value\")\n",
    "    plt.ylabel(\"Frequency\")"
   ]
  },
  {
   "cell_type": "markdown",
   "metadata": {},
   "source": []
  },
  {
   "cell_type": "markdown",
   "metadata": {},
   "source": [
    "**Part C**: Does it appear as those the data is fraudulent, not fraudulent, or too hard to tell?  What kind of numerical measures could you use to support such a conclusion?"
   ]
  },
  {
   "cell_type": "markdown",
   "metadata": {},
   "source": [
    "This data appears fraudulent. This could be supported by comparing (actual density - expected fraudulent density) vs (actual density vs expected legitimate density) for each digit"
   ]
  },
  {
   "cell_type": "markdown",
   "metadata": {},
   "source": [
    "**Part D**: Create a new object that stores only the first digit of the first 100 distinct powers of 2, e.g. $Y=[2, 2^2, 2^3, 2^4, \\dots ]$.  Repeat steps a) and b) for this new data set, plotting the distribution of the first digit of terms in $Y$ against $f(x)$."
   ]
  },
  {
   "cell_type": "code",
   "execution_count": 108,
   "metadata": {},
   "outputs": [
    {
     "data": {
      "text/plain": [
       "Text(0,0.5,'Frequency')"
      ]
     },
     "execution_count": 108,
     "metadata": {},
     "output_type": "execute_result"
    },
    {
     "data": {
      "image/png": "[encoded data removed]",
      "text/plain": [
       "<Figure size 432x288 with 1 Axes>"
      ]
     },
     "metadata": {},
     "output_type": "display_data"
    }
   ],
   "source": [
    "first_digits = []\n",
    "expected_digits = []\n",
    "for i in range(1, 101):\n",
    "    num = 2 ** i\n",
    "    while num >= 10:\n",
    "        num = num/10\n",
    "    num = int(num)\n",
    "    first_digits.append(num)\n",
    "for i in range(1, 10):\n",
    "    density = math.log(((i+1)/i), 10)\n",
    "    expected = int(density * 100)\n",
    "    for j in range(expected):\n",
    "        expected_digits.append(i)\n",
    "l1 = list()\n",
    "plt.hist([first_digits, expected_digits], alpha = 0.5, label = [\"Actual\", \"Expected\"])\n",
    "plt.legend()\n",
    "plt.title(\"First Digits\")\n",
    "plt.xlabel(\"Value\")\n",
    "plt.ylabel(\"Frequency\")"
   ]
  },
  {
   "cell_type": "markdown",
   "metadata": {},
   "source": [
    "<br>\n",
    "\n",
    "---\n",
    "[Back to top](#top)\n",
    "<a id='p3'></a>\n",
    "\n",
    "### [30 points] Problem 3: Poker\n",
    "\n",
    "It's time to play poker.  (https://en.wikipedia.org/wiki/Texas_hold_%27em#Hand_values) Assume that we are using a standard deck of cards without jokers (52 cards). For each round, you will be dealt 5 cards from the deck without replacement. There are several different types of hands that can be dealt; listed below are a few of interest: \n",
    "\n",
    "- Highcard (Simple value of the card. Lowest: 2 - Highest: Ace)\n",
    "- Pair (Two cards with the same value)\n",
    "- Two pair (Twice two cards with the same value)\n",
    "- Three of a kind (Three cards with the same value)\n",
    "- Straight (Sequence of 5 cards in increasing value, Ace can only follow K)\n",
    "- Four of a kind (Four cards with the same value)\n",
    "- Full house (Three of a kind and a pair)\n",
    "- Flush (5 cards of the same suit)"
   ]
  },
  {
   "cell_type": "markdown",
   "metadata": {},
   "source": [
    "**Part A**: What is the exact probability you get at least a Pair in your 5 cards? What is the probability of getting a Full House?  (Note that we're including pairs as a subset of a full house, here)"
   ]
  },
  {
   "cell_type": "markdown",
   "metadata": {},
   "source": [
    "Number of possible hands: 52 choose 5 = 2598960  \n",
    "Pair: 13\\*4 choose 2\\*12 choose 3\\*(4 choose 1)^3 = 1098240. 1098240/2598960 = 0.423  \n",
    "Full house: 13\\*4 choose 3\\*12\\*4 choose 2 = 3744. 3744/2598960 = 0.00144"
   ]
  },
  {
   "cell_type": "markdown",
   "metadata": {},
   "source": [
    "**Part B**: Write a function `getCards()` to randomly generate 5 cards from the no-joker deck. This function should return an array of 5 cards."
   ]
  },
  {
   "cell_type": "code",
   "execution_count": 171,
   "metadata": {},
   "outputs": [],
   "source": [
    "class Card:\n",
    "    def __init__(self, rank, suit):\n",
    "        self.rank=rank\n",
    "        self.suit=suit\n",
    "\n",
    "def getCards():\n",
    "    deck = []\n",
    "    return_deck = []\n",
    "    for i in range(13):\n",
    "        for j in range (4):\n",
    "            deck.append(Card(i, j))\n",
    "    for i in range(5):\n",
    "        rand_card = random.randint(0, 51-i)\n",
    "        return_deck.append(deck.pop(rand_card))\n",
    "    return return_deck"
   ]
  },
  {
   "cell_type": "markdown",
   "metadata": {},
   "source": [
    "**Part C**: Run the `getCards()` simulation 10000 times, and store the result in an array named `card_array`."
   ]
  },
  {
   "cell_type": "code",
   "execution_count": 180,
   "metadata": {},
   "outputs": [],
   "source": [
    "card_array = []\n",
    "for i in range(10000):\n",
    "    card_array.append(getCards())"
   ]
  },
  {
   "cell_type": "markdown",
   "metadata": {},
   "source": [
    "**Part D**: Write a function `pair(card_array, num_sim)` For the 10000 simulations we did in Part C, what is the probability of have Pair? Does the result agree with your calculation in Part A?"
   ]
  },
  {
   "cell_type": "code",
   "execution_count": 181,
   "metadata": {},
   "outputs": [
    {
     "name": "stdout",
     "output_type": "stream",
     "text": [
      "The calculated probability of a pair was 0.426\n",
      "The expected probability of a pair was 0.423\n",
      "The percent error is 0.7092198581560291\n",
      "At the time of running, this error value was within the 5% threshold to be considered accurate\n"
     ]
    }
   ],
   "source": [
    "def pair(card_array, num_sim):\n",
    "    pair_count = 0\n",
    "    for hand in card_array:\n",
    "        hand_ranks = []\n",
    "        for card in hand:\n",
    "            hand_ranks.append(card.rank)\n",
    "        if (len(hand_ranks) == len(set(hand_ranks))+1):\n",
    "            pair_count += 1\n",
    "    print(\"The calculated probability of a pair was \" + str(pair_count/10000))\n",
    "    print(\"The expected probability of a pair was \" + str(num_sim))\n",
    "    error = 100 * (abs(num_sim-(pair_count/10000))/num_sim)\n",
    "    print(\"The percent error is \" + str(error))\n",
    "    print(\"At the time of running, this error value was within the 5% threshold to be considered accurate\")\n",
    "    \n",
    "pair(card_array, 0.423)"
   ]
  },
  {
   "cell_type": "markdown",
   "metadata": {},
   "source": [
    "**Part E:** Write a function `fullhouse(card_array, num_sim)` For the 10000 simulations we did in Part C, what is the probability of having a Full House? Does the result agree with your calculation in Part A?"
   ]
  },
  {
   "cell_type": "code",
   "execution_count": 183,
   "metadata": {},
   "outputs": [
    {
     "name": "stdout",
     "output_type": "stream",
     "text": [
      "[12, 12, 12, 3, 3][0, 2, 1, 1, 3]\n",
      "[3, 0, 3, 0, 0][0, 1, 1, 0, 2]\n",
      "[0, 9, 0, 9, 9][3, 1, 2, 2, 3]\n",
      "[9, 3, 9, 9, 3][3, 0, 1, 2, 2]\n",
      "[3, 8, 8, 3, 3][2, 1, 2, 0, 3]\n",
      "[12, 3, 12, 3, 12][0, 2, 1, 3, 3]\n",
      "[11, 11, 11, 10, 10][3, 0, 1, 2, 3]\n",
      "[2, 10, 10, 2, 2][3, 0, 2, 1, 0]\n",
      "[1, 1, 5, 5, 1][3, 0, 0, 1, 2]\n",
      "[0, 8, 0, 8, 0][1, 1, 0, 2, 3]\n",
      "[2, 5, 5, 5, 2][2, 2, 3, 0, 1]\n",
      "[6, 6, 6, 12, 12][1, 0, 3, 1, 3]\n",
      "[7, 7, 9, 7, 9][0, 3, 1, 1, 3]\n",
      "[4, 11, 11, 4, 4][1, 1, 2, 0, 2]\n",
      "[11, 11, 10, 10, 10][1, 2, 0, 1, 2]\n",
      "[1, 4, 4, 1, 1][0, 1, 2, 1, 3]\n",
      "[7, 0, 7, 0, 7][2, 0, 3, 3, 0]\n",
      "[5, 12, 12, 12, 5][2, 3, 0, 2, 3]\n",
      "[2, 2, 4, 4, 2][1, 2, 2, 0, 3]\n",
      "The calculated probability of a full house was 0.0019\n",
      "The expected probability of a full house was 0.00144\n",
      "The percent error is 31.944444444444436\n",
      "At the time of running, this error value was not within the 5% threshold to be considered accurate\n"
     ]
    }
   ],
   "source": [
    "def fullhouse(card_array, num_sim):\n",
    "    fh_count = 0\n",
    "    for hand in card_array:\n",
    "        hand_ranks = []\n",
    "        hand_suits = []\n",
    "        unique_ranks = []\n",
    "        for card in hand:\n",
    "            hand_ranks.append(card.rank)\n",
    "            hand_suits.append(card.suit)\n",
    "        unique_ranks = set(hand_ranks)\n",
    "        if (len(unique_ranks) == 2 and hand_ranks.count(hand_ranks[0]) in [2, 3]):\n",
    "            print(str(hand_ranks) + str(hand_suits))\n",
    "            fh_count += 1\n",
    "    print(\"The calculated probability of a full house was \" + str(fh_count/10000))\n",
    "    print(\"The expected probability of a full house was \" + str(num_sim))\n",
    "    error = 100 * (abs(num_sim-(fh_count/10000))/num_sim)\n",
    "    print(\"The percent error is \" + str(error))\n",
    "    print(\"At the time of running, this error value was not within the 5% threshold to be considered accurate\")\n",
    "    \n",
    "fullhouse(card_array, 0.00144)"
   ]
  },
  {
   "cell_type": "markdown",
   "metadata": {},
   "source": [
    "In 10000 trials, you are only expected to get 14 full houses, which is a small sample size and causes a large standard deviation. This error is likely to not be within 5% due to this. With 500000 trials, the percent error lowered to around 1.5% on average"
   ]
  }
 ],
 "metadata": {
  "kernelspec": {
   "display_name": "Python 3",
   "language": "python",
   "name": "python3"
  },
  "language_info": {
   "codemirror_mode": {
    "name": "ipython",
    "version": 3
   },
   "file_extension": ".py",
   "mimetype": "text/x-python",
   "name": "python",
   "nbconvert_exporter": "python",
   "pygments_lexer": "ipython3",
   "version": "3.6.5"
  }
 },
 "nbformat": 4,
 "nbformat_minor": 2
}
